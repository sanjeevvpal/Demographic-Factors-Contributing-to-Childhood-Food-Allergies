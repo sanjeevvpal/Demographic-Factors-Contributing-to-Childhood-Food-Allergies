{
  "nbformat": 4,
  "nbformat_minor": 0,
  "metadata": {
    "colab": {
      "provenance": []
    },
    "kernelspec": {
      "name": "python3",
      "display_name": "Python 3"
    },
    "language_info": {
      "name": "python"
    }
  },
  "cells": [
    {
      "cell_type": "code",
      "execution_count": null,
      "metadata": {
        "id": "K_aDtW1Tb8jK"
      },
      "outputs": [],
      "source": [
        "import pandas as pd\n",
        "import numpy as np\n",
        "from scipy import stats\n",
        "\n",
        "# Load dataset\n",
        "df = pd.read_csv(\"food-allergy-analysis-Zenodo (1).csv\")\n"
      ]
    },
    {
      "cell_type": "code",
      "source": [
        "df.head"
      ],
      "metadata": {
        "id": "1b-cNU8lcyQd"
      },
      "execution_count": null,
      "outputs": []
    },
    {
      "cell_type": "code",
      "source": [
        "# Create two separate datasets for children with and without Medicaid\n",
        "import statsmodels.api as sm\n",
        "\n",
        "medicaid_data = df[df['MEDICAID_FACTOR'] == 'P1']\n",
        "non_medicaid_data = df[df['MEDICAID_FACTOR'] == 'P0']\n",
        "\n",
        "# Calculate the proportions of food allergy diagnosis in each dataset\n",
        "food_allergy_columns = ['SHELLFISH_ALG_START', 'SESAME_ALG_START', 'TREENUT_ALG_START', 'WALNUT_ALG_START', 'PECAN_ALG_START', 'ASTHMA_START', 'SOY_ALG_START', 'MILK_ALG_START', 'EGG_ALG_START', 'WHEAT_ALG_START']\n",
        "medicaid_allergy = medicaid_data[food_allergy_columns].notna().sum().sum() / len(medicaid_data)\n",
        "non_medicaid_allergy = non_medicaid_data[food_allergy_columns].notna().sum().sum() / len(non_medicaid_data)\n",
        "\n",
        "# Perform a two-proportion z-test\n",
        "z, p_value = sm.stats.proportions_ztest([medicaid_allergy, non_medicaid_allergy], [len(medicaid_data), len(non_medicaid_data)])\n",
        "print(z)\n",
        "alpha = 0.05\n",
        "print(f\"Hypothesis 1: p-value = {p_value:.5f}\")\n",
        "if p_value < alpha:\n",
        "    print(\"Reject the null hypothesis.\")\n",
        "else:\n",
        "    print(\"Fail to reject the null hypothesis.\")"
      ],
      "metadata": {
        "colab": {
          "base_uri": "https://localhost:8080/"
        },
        "id": "BN4ToFCTc126",
        "outputId": "b2fb8830-3724-4126-83d7-c1c183a4ac70"
      },
      "execution_count": null,
      "outputs": [
        {
          "output_type": "stream",
          "name": "stdout",
          "text": [
            "0.48085040861063877\n",
            "Hypothesis 1: p-value = 0.63062\n",
            "Fail to reject the null hypothesis.\n"
          ]
        }
      ]
    },
    {
      "cell_type": "code",
      "source": [
        "# Create two separate datasets for minority and non-minority children\n",
        "minority_data = df[df['RACE_FACTOR'] != 'R0']\n",
        "non_minority_data = df[df['RACE_FACTOR'] == 'R0']\n",
        "\n",
        "# Calculate the proportions of food allergy diagnosis in each dataset\n",
        "minority_allergy = minority_data[food_allergy_columns].notna().sum().sum() / len(minority_data)\n",
        "non_minority_allergy = non_minority_data[food_allergy_columns].notna().sum().sum() / len(non_minority_data)\n",
        "\n",
        "# Perform a two-proportion z-test\n",
        "z, p_value = sm.stats.proportions_ztest([minority_allergy, non_minority_allergy], [len(minority_data), len(non_minority_data)])\n",
        "\n",
        "alpha = 0.05\n",
        "print(f\"Hypothesis 2: p-value = {p_value:.5f}\")\n",
        "if p_value < alpha:\n",
        "    print(\"Reject the null hypothesis.\")\n",
        "else:\n",
        "    print(\"Fail to reject the null hypothesis.\")\n",
        "\n"
      ],
      "metadata": {
        "colab": {
          "base_uri": "https://localhost:8080/"
        },
        "id": "NQdOC8cOey2C",
        "outputId": "20e9fd7d-5187-463a-d6bf-ebffadb317e5"
      },
      "execution_count": null,
      "outputs": [
        {
          "output_type": "stream",
          "name": "stdout",
          "text": [
            "Hypothesis 2: p-value = 0.57736\n",
            "Fail to reject the null hypothesis.\n"
          ]
        }
      ]
    },
    {
      "cell_type": "code",
      "source": [
        "import pandas as pd\n",
        "import numpy as np\n",
        "from scipy.stats import chi2_contingency\n",
        "\n",
        "\n",
        "\n",
        "# Create a list of all the allergy columns\n",
        "allergies = ['SHELLFISH_ALG_START', 'EGG_ALG_START', 'MILK_ALG_START', 'PEANUT_ALG_START',\n",
        "             'FISH_ALG_START', 'SOY_ALG_START', 'WHEAT_ALG_START', 'SESAME_ALG_START',\n",
        "             'TREENUT_ALG_START', 'WALNUT_ALG_START', 'PECAN_ALG_START', 'ASTHMA_START']\n",
        "\n",
        "# Create a function to classify the age range\n",
        "def age_range(age):\n",
        "    if age < 1:\n",
        "        return '0-1'\n",
        "    elif age < 3:\n",
        "        return '1-3'\n",
        "    elif age < 6:\n",
        "        return '3-6'\n",
        "    elif age < 10:\n",
        "        return '6-10'\n",
        "    else:\n",
        "        return '10-18'\n",
        "\n",
        "# Create a new DataFrame to store the allergy occurrence and the age range\n",
        "allergy_age_df = pd.DataFrame(columns=['allergy', 'age_range'])\n",
        "\n",
        "# Iterate through each allergy and record the age range of each occurrence\n",
        "for allergy in allergies:\n",
        "    temp_df = df[['SUBJECT_ID', allergy]].dropna()\n",
        "    temp_df['age_range'] = temp_df[allergy].apply(age_range)\n",
        "    temp_df['allergy'] = allergy\n",
        "    allergy_age_df = allergy_age_df.append(temp_df[['allergy', 'age_range']], ignore_index=True)\n",
        "\n",
        "# Create a contingency table\n",
        "contingency_table = pd.crosstab(allergy_age_df['allergy'], allergy_age_df['age_range'])\n",
        "\n",
        "# Perform the Chi-Square test\n",
        "chi2, p_value, _, _ = chi2_contingency(contingency_table)\n",
        "\n",
        "# Print the results\n",
        "print(f'Chi-Square: {chi2}, p-value: {p_value}')\n",
        "\n"
      ],
      "metadata": {
        "colab": {
          "base_uri": "https://localhost:8080/"
        },
        "id": "FF7ht5lqgiR_",
        "outputId": "b832787c-882d-4483-c0ce-8afc47894442"
      },
      "execution_count": null,
      "outputs": [
        {
          "output_type": "stream",
          "name": "stdout",
          "text": [
            "Chi-Square: 24802.118086903884, p-value: 0.0\n"
          ]
        },
        {
          "output_type": "stream",
          "name": "stderr",
          "text": [
            "<ipython-input-8-5f00f9d2bb36>:33: FutureWarning: The frame.append method is deprecated and will be removed from pandas in a future version. Use pandas.concat instead.\n",
            "  allergy_age_df = allergy_age_df.append(temp_df[['allergy', 'age_range']], ignore_index=True)\n",
            "<ipython-input-8-5f00f9d2bb36>:33: FutureWarning: The frame.append method is deprecated and will be removed from pandas in a future version. Use pandas.concat instead.\n",
            "  allergy_age_df = allergy_age_df.append(temp_df[['allergy', 'age_range']], ignore_index=True)\n",
            "<ipython-input-8-5f00f9d2bb36>:33: FutureWarning: The frame.append method is deprecated and will be removed from pandas in a future version. Use pandas.concat instead.\n",
            "  allergy_age_df = allergy_age_df.append(temp_df[['allergy', 'age_range']], ignore_index=True)\n",
            "<ipython-input-8-5f00f9d2bb36>:33: FutureWarning: The frame.append method is deprecated and will be removed from pandas in a future version. Use pandas.concat instead.\n",
            "  allergy_age_df = allergy_age_df.append(temp_df[['allergy', 'age_range']], ignore_index=True)\n",
            "<ipython-input-8-5f00f9d2bb36>:33: FutureWarning: The frame.append method is deprecated and will be removed from pandas in a future version. Use pandas.concat instead.\n",
            "  allergy_age_df = allergy_age_df.append(temp_df[['allergy', 'age_range']], ignore_index=True)\n",
            "<ipython-input-8-5f00f9d2bb36>:33: FutureWarning: The frame.append method is deprecated and will be removed from pandas in a future version. Use pandas.concat instead.\n",
            "  allergy_age_df = allergy_age_df.append(temp_df[['allergy', 'age_range']], ignore_index=True)\n",
            "<ipython-input-8-5f00f9d2bb36>:33: FutureWarning: The frame.append method is deprecated and will be removed from pandas in a future version. Use pandas.concat instead.\n",
            "  allergy_age_df = allergy_age_df.append(temp_df[['allergy', 'age_range']], ignore_index=True)\n",
            "<ipython-input-8-5f00f9d2bb36>:33: FutureWarning: The frame.append method is deprecated and will be removed from pandas in a future version. Use pandas.concat instead.\n",
            "  allergy_age_df = allergy_age_df.append(temp_df[['allergy', 'age_range']], ignore_index=True)\n",
            "<ipython-input-8-5f00f9d2bb36>:33: FutureWarning: The frame.append method is deprecated and will be removed from pandas in a future version. Use pandas.concat instead.\n",
            "  allergy_age_df = allergy_age_df.append(temp_df[['allergy', 'age_range']], ignore_index=True)\n",
            "<ipython-input-8-5f00f9d2bb36>:33: FutureWarning: The frame.append method is deprecated and will be removed from pandas in a future version. Use pandas.concat instead.\n",
            "  allergy_age_df = allergy_age_df.append(temp_df[['allergy', 'age_range']], ignore_index=True)\n",
            "<ipython-input-8-5f00f9d2bb36>:33: FutureWarning: The frame.append method is deprecated and will be removed from pandas in a future version. Use pandas.concat instead.\n",
            "  allergy_age_df = allergy_age_df.append(temp_df[['allergy', 'age_range']], ignore_index=True)\n",
            "<ipython-input-8-5f00f9d2bb36>:33: FutureWarning: The frame.append method is deprecated and will be removed from pandas in a future version. Use pandas.concat instead.\n",
            "  allergy_age_df = allergy_age_df.append(temp_df[['allergy', 'age_range']], ignore_index=True)\n"
          ]
        }
      ]
    },
    {
      "cell_type": "code",
      "source": [
        "# Create a list of all the allergy columns with their corresponding end columns\n",
        "allergies_start_end = [('SHELLFISH_ALG_START', 'SHELLFISH_ALG_END'), ('EGG_ALG_START', 'EGG_ALG_END'),\n",
        "                       ('MILK_ALG_START', 'MILK_ALG_END'), ('PEANUT_ALG_START', 'PEANUT_ALG_END'),\n",
        "                       ('FISH_ALG_START', 'FISH_ALG_END'), ('SOY_ALG_START', 'SOY_ALG_END'),\n",
        "                       ('WHEAT_ALG_START', 'WHEAT_ALG_END'), ('SESAME_ALG_START', 'SESAME_ALG_END'),\n",
        "                       ('TREENUT_ALG_START', 'TREENUT_ALG_END'), ('WALNUT_ALG_START', 'WALNUT_ALG_END'),\n",
        "                       ('PECAN_ALG_START', 'PECAN_ALG_END'), ('ASTHMA_START', 'ASTHMA_END')]\n",
        "\n",
        "# Initialize the maximum duration and the corresponding disease\n",
        "max_duration = 0\n",
        "max_duration_disease = ''\n",
        "\n",
        "# Iterate through each allergy and calculate the duration\n",
        "for allergy_start, allergy_end in allergies_start_end:\n",
        "    temp_df = df[[allergy_start, allergy_end]].dropna()\n",
        "    temp_df['duration'] = temp_df[allergy_end] - temp_df[allergy_start]\n",
        "    max_temp_duration = temp_df['duration'].max()\n",
        "\n",
        "    # Update the maximum duration and corresponding disease if needed\n",
        "    if max_temp_duration > max_duration:\n",
        "        max_duration = max_temp_duration\n",
        "        max_duration_disease = allergy_start\n",
        "\n",
        "# Print the disease with the longest time range\n",
        "print(f'The disease with the longest time range is {max_duration_disease} with a duration of {max_duration} years.')\n"
      ],
      "metadata": {
        "colab": {
          "base_uri": "https://localhost:8080/"
        },
        "id": "A2CAkmwGsSSI",
        "outputId": "669f2ba6-73e4-4ac9-fa63-6815b2bd9a64"
      },
      "execution_count": null,
      "outputs": [
        {
          "output_type": "stream",
          "name": "stdout",
          "text": [
            "The disease with the longest time range is ASTHMA_START with a duration of 20.249144422 years.\n"
          ]
        }
      ]
    },
    {
      "cell_type": "code",
      "source": [
        "# Calculate the number of children with food allergies and asthma\n",
        "food_allergy_count = df[food_allergy_columns].notna().sum().sum()\n",
        "asthma_count = df['ASTHMA_START'].notna().sum()\n",
        "\n",
        "# Perform a two-proportion z-test\n",
        "z, p_value = sm.stats.proportions_ztest([food_allergy_count, asthma_count], [len(df), len(df)])\n",
        "\n",
        "alpha = 0.05\n",
        "print(f\"Hypothesis 4: p-value = {p_value:.5f}\")\n",
        "if p_value < alpha:\n",
        "    print(\"Reject the null hypothesis.\")\n",
        "else:\n",
        "    print(\"Fail to reject the null hypothesis.\")\n"
      ],
      "metadata": {
        "colab": {
          "base_uri": "https://localhost:8080/"
        },
        "id": "dGwSSCkJhy1y",
        "outputId": "f69385e9-e607-4b3e-997a-253350949e1b"
      },
      "execution_count": null,
      "outputs": [
        {
          "output_type": "stream",
          "name": "stdout",
          "text": [
            "Hypothesis 4: p-value = 0.00000\n",
            "Reject the null hypothesis.\n"
          ]
        }
      ]
    },
    {
      "cell_type": "code",
      "source": [
        "import pandas as pd\n",
        "import numpy as np\n",
        "from scipy import stats\n",
        "\n",
        "# Load your data into a DataFrame named 'df'\n",
        "\n",
        "# Create a food allergy column\n",
        "food_allergy_columns = ['SHELLFISH_ALG_START', 'SESAME_ALG_START', 'TREENUT_ALG_START', 'WALNUT_ALG_START', 'PECAN_ALG_START', 'ASTHMA_START', 'SOY_ALG_START', 'MILK_ALG_START', 'EGG_ALG_START', 'WHEAT_ALG_START']\n",
        "df['FOOD_ALLERGY'] = df[food_allergy_columns].notna().any(axis=1)\n",
        "\n",
        "# Create an asthma column\n",
        "df['ASTHMA'] = df['ASTHMA_START'].notna()\n",
        "\n",
        "# Calculate the number of children with food allergies and asthma\n",
        "num_food_allergies = df['FOOD_ALLERGY'].sum()\n",
        "num_asthma = df['ASTHMA'].sum()\n",
        "\n",
        "# Calculate the total number of children in the dataset\n",
        "num_children = len(df)\n",
        "\n",
        "# Calculate proportions of children with food allergies and asthma\n",
        "prop_food_allergies = num_food_allergies / num_children\n",
        "prop_asthma = num_asthma / num_children\n",
        "\n",
        "# Calculate the pooled proportion\n",
        "pooled_prop = (num_food_allergies + num_asthma) / (2 * num_children)\n",
        "\n",
        "# Calculate the standard error\n",
        "se = np.sqrt(pooled_prop * (1 - pooled_prop) * (1 / num_children + 1 / num_children))\n",
        "\n",
        "# Calculate the z-statistic\n",
        "z_stat = (prop_food_allergies - prop_asthma) / se\n",
        "\n",
        "# Calculate the p-value using the z-statistic\n",
        "p_value = 2 * (1 - stats.norm.cdf(abs(z_stat)))  # Two-tailed test\n",
        "\n",
        "print(f\"Z-statistic: {z_stat}\")\n",
        "print(f\"P-value: {p_value}\")\n"
      ],
      "metadata": {
        "colab": {
          "base_uri": "https://localhost:8080/"
        },
        "id": "yWG0h0uX8Rjd",
        "outputId": "4dd7c8bd-1152-4b30-f440-c86e9e2353a2"
      },
      "execution_count": null,
      "outputs": [
        {
          "output_type": "stream",
          "name": "stdout",
          "text": [
            "Z-statistic: 31.477305634854197\n",
            "P-value: 0.0\n"
          ]
        }
      ]
    },
    {
      "cell_type": "code",
      "source": [
        "import numpy as np\n",
        "\n",
        "# Calculate proportions of children with food allergies and asthma\n",
        "prop_food_allergies = num_food_allergies / num_children\n",
        "prop_asthma = num_asthma / num_children\n",
        "\n",
        "# Calculate Cohen's h\n",
        "cohens_h = np.abs(np.arcsin(np.sqrt(prop_food_allergies)) - np.arcsin(np.sqrt(prop_asthma)))\n",
        "\n",
        "print(f\"Cohen's h: {cohens_h}\")\n"
      ],
      "metadata": {
        "colab": {
          "base_uri": "https://localhost:8080/"
        },
        "id": "keKrB6-D8c9J",
        "outputId": "5ddfb5cd-e03a-49ce-b343-71eda0fb59c1"
      },
      "execution_count": null,
      "outputs": [
        {
          "output_type": "stream",
          "name": "stdout",
          "text": [
            "Cohen's h: 0.03858393697265167\n"
          ]
        }
      ]
    },
    {
      "cell_type": "code",
      "source": [
        "import matplotlib.pyplot as plt\n",
        "\n",
        "# Create a list of all the allergy columns with their corresponding end columns\n",
        "allergies_start_end = [('SHELLFISH_ALG_START', 'SHELLFISH_ALG_END'), ('EGG_ALG_START', 'EGG_ALG_END'),\n",
        "                       ('MILK_ALG_START', 'MILK_ALG_END'), ('PEANUT_ALG_START', 'PEANUT_ALG_END'),\n",
        "                       ('FISH_ALG_START', 'FISH_ALG_END'), ('SOY_ALG_START', 'SOY_ALG_END'),\n",
        "                       ('WHEAT_ALG_START', 'WHEAT_ALG_END'), ('SESAME_ALG_START', 'SESAME_ALG_END'),\n",
        "                       ('TREENUT_ALG_START', 'TREENUT_ALG_END'), ('WALNUT_ALG_START', 'WALNUT_ALG_END'),\n",
        "                       ('PECAN_ALG_START', 'PECAN_ALG_END'), ('ASTHMA_START', 'ASTHMA_END')]\n",
        "\n",
        "# Initialize the lists for average start age and end age\n",
        "avg_start_age = []\n",
        "avg_end_age = []\n",
        "\n",
        "# Iterate through each allergy and calculate the average start age and end age\n",
        "for allergy_start, allergy_end in allergies_start_end:\n",
        "    temp_df = df[[allergy_start, allergy_end]].dropna()\n",
        "    avg_start = temp_df[allergy_start].mean()\n",
        "    avg_end = temp_df[allergy_end].mean()\n",
        "    avg_start_age.append(avg_start)\n",
        "    avg_end_age.append(avg_end)\n",
        "\n",
        "# Create a double line bar graph\n",
        "x = range(12)\n",
        "width = 0.3\n",
        "fig, ax = plt.subplots()\n",
        "ax.bar(x, avg_start_age, width, label='Average Start Age')\n",
        "ax.bar([i+width for i in x], avg_end_age, width, label='Average End Age')\n",
        "ax.set_xticks([i+width/2 for i in x])\n",
        "ax.set_xticklabels(['Shellfish', 'Egg', 'Milk', 'Peanut', 'Fish', 'Soy', 'Wheat', 'Sesame', 'Treenut', 'Walnut', 'Pecan', 'Asthma'], rotation=45, ha='right')\n",
        "ax.legend()\n",
        "\n",
        "# Add a caption\n",
        "fig.text(0.5, 0.96, 'Figure 7', ha='center')\n",
        "\n",
        "plt.show()\n",
        "\n"
      ],
      "metadata": {
        "colab": {
          "base_uri": "https://localhost:8080/",
          "height": 516
        },
        "id": "TcfGrXwW_2dz",
        "outputId": "42ce4068-bd7a-4d53-8411-ffb2f9816c06"
      },
      "execution_count": null,
      "outputs": [
        {
          "output_type": "display_data",
          "data": {
            "text/plain": [
              "<Figure size 640x480 with 1 Axes>"
            ],
            "image/png": "[encoded data removed]"
          },
          "metadata": {}
        }
      ]
    }
  ]
}